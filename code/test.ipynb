{
 "cells": [
  {
   "cell_type": "code",
   "execution_count": 8,
   "id": "42a2e98b-0461-4feb-825d-c8aa95da4aa5",
   "metadata": {},
   "outputs": [],
   "source": [
    "import numpy as np\n",
    "from scipy.interpolate import interp1d\n",
    "import time\n",
    "import redshifts\n",
    "from math import lgamma\n",
    "import loginterp\n",
    "import common as c\n",
    "import copy\n",
    "from scipy.linalg import cholesky\n",
    "from scipy import linalg\n",
    "import healpy as hp"
   ]
  },
  {
   "cell_type": "code",
   "execution_count": 1,
   "id": "b105ec55-6710-4db0-a599-9ad1c8000b9c",
   "metadata": {},
   "outputs": [
    {
     "name": "stdout",
     "output_type": "stream",
     "text": [
      "Default lss = 'g' . Modify with set_lss method.\n",
      "Default N_fine_modes = 8. Modify with set_Nfine method.\n",
      "(95, 8, 8)\n",
      "Generating vmap and vlm\n",
      "cholesky\n",
      "formatting covmat\n",
      "generating realization\n"
     ]
    }
   ],
   "source": [
    "import config as conf\n",
    "import estim\n",
    "from estim import estimator\n",
    "data_lmax = 4000\n",
    "\n",
    "nside = 20\n",
    "lmax = 4000\n",
    "\n",
    "estimator = estimator(data_lmax, conf)\n",
    "\n",
    "\n",
    "Cls = estimator.load_theory_Cl('vr', 'vr')\n",
    "print(Cls.shape)\n",
    "print('Generating vmap and vlm')\n",
    "vmap, vlm = estimator.get_maps_and_alms(['vr'], nside, lmax)"
   ]
  },
  {
   "cell_type": "code",
   "execution_count": 15,
   "id": "b194c86d-1f4f-4dce-8d3b-e6af3004b5c7",
   "metadata": {},
   "outputs": [
    {
     "data": {
      "text/plain": [
       "(8, 4800)"
      ]
     },
     "execution_count": 15,
     "metadata": {},
     "output_type": "execute_result"
    }
   ],
   "source": [
    "vmap[0].shape"
   ]
  },
  {
   "cell_type": "code",
   "execution_count": 16,
   "id": "8534a50d-06df-40a1-a0c9-ff894bd6e200",
   "metadata": {},
   "outputs": [],
   "source": [
    "vmap_test = hp.alm2map(vlm[0][0], nside)"
   ]
  },
  {
   "cell_type": "code",
   "execution_count": null,
   "id": "5800b60b-3e6f-4786-b869-5d30cd80adde",
   "metadata": {},
   "outputs": [],
   "source": [
    "vmap"
   ]
  }
 ],
 "metadata": {
  "kernelspec": {
   "display_name": "Python 3 (ipykernel)",
   "language": "python",
   "name": "python3"
  },
  "language_info": {
   "codemirror_mode": {
    "name": "ipython",
    "version": 3
   },
   "file_extension": ".py",
   "mimetype": "text/x-python",
   "name": "python",
   "nbconvert_exporter": "python",
   "pygments_lexer": "ipython3",
   "version": "3.11.5"
  }
 },
 "nbformat": 4,
 "nbformat_minor": 5
}
