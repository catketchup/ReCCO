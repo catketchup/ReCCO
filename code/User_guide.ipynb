{
 "cells": [
  {
   "cell_type": "markdown",
   "id": "weekly-combine",
   "metadata": {},
   "source": [
    "# ReCCO = Reconstruction Code for Cosmological Observables"
   ]
  },
  {
   "cell_type": "markdown",
   "id": "south-potato",
   "metadata": {},
   "source": [
    "The code consists of two main modules that handle the following tasks:\n",
    "\n",
    "1) $\\textbf{spectra.py}$  computes angular power spectra for a variety of cosmological fields on our past lightcone. \n",
    "\n",
    "2) $\\textbf{estim.py}$ takes input angular power spectra and runs the quadratic estimator machinery: computation of reconstruction noise, biases, principal component analysis, and Gaussian simulations."
   ]
  },
  {
   "cell_type": "markdown",
   "id": "commercial-ensemble",
   "metadata": {},
   "source": [
    "## Basic concepts"
   ]
  },
  {
   "cell_type": "markdown",
   "id": "banned-diagram",
   "metadata": {},
   "source": [
    "Mutiple cosmological fields can be defined on our past lightcone and used to construct cosmological observables. A three dimensional field can be integrated or coarse grained along the radial direction of the lightcone in order to generate 1 or multiple two-dimensional fields, each with its own angular power spectrum Cl. \n",
    "\n",
    "$\\textbf{spectra.py}$ generates Cls for fully integrated and coarse grained fields on our past lightcone. For coarse grained fields, our choice of radial coarse graining for the lightcone consists on separating it into N equal comoving size radial bins.\n",
    "\n",
    "For example, consider the 3-dimensional radial veloicty defined on our past lightcone. $\\textbf{spectra.py}$ separates the lightcone into N redshift bins, averages the radial velocity field inside each bin, and computes the angular auto and cross spectra between bins. The output is a matrix with shape (NL, N, N), where NL is the number of $\\ell$ samples. \n"
   ]
  },
  {
   "cell_type": "markdown",
   "id": "broke-custody",
   "metadata": {},
   "source": [
    "## spectra.py"
   ]
  },
  {
   "cell_type": "markdown",
   "id": "lucky-might",
   "metadata": {},
   "source": [
    "### Base layer computations"
   ]
  },
  {
   "cell_type": "markdown",
   "id": "surprised-penguin",
   "metadata": {},
   "source": [
    "$\\textbf{spectra.py}$ is divided into two layers of computation. The base layer takes care of computing Cls for cosmological fields that serve as building blocks to compute more complex signals. The output of spectra.py are matrices with with shape (NL, N1,N2). NL is the number of sampled $\\ell$ multipoles.\n",
    "\n",
    "Some base layer fields are computed subdividing the past lightcone into a custom number of redshift bins (Pi-bins):\n",
    "\n",
    "1) vr (radial component of the velocity field on the lightcone)\n",
    "\n",
    "2) vt (transverse velocity potential field on the lightcone)\n",
    "\n",
    "3) g (galaxy number counts on the lightcone)\n",
    "\n",
    "4) taud (differential optical depth field on the lightcone)\n",
    "\n",
    "5) ml (moving lens potential field on the lightcone)\n",
    "\n",
    "6) e (electron density field on the lightcone)\n",
    "\n",
    "7) m (dark matter density field on the lightcone)\n",
    "\n",
    "and other base layer fields are fully integrated along the lightcone:\n",
    "\n",
    "7) CIB (Cosmic Infrarred background at multiple frequencies)\n",
    "\n",
    "7) tSZ (thermal Sunyaev-Zel'dovich signal at multiple frequencies)\n",
    "\n",
    "8) isw_lin (linear isw signal)\n",
    "\n",
    "2) pCMB (primary CMB, both lensed and unlensed)\n",
    "\n",
    "3) lensing (lensing potential)\n",
    "\n",
    "One can compute and save the angular power spectra between these observables by running the following in the command line:\n",
    "\n",
    "$\\textbf{python spectra.py -t1 A -t2 B -lmax LMAX}$\n",
    "\n",
    "where A and B are replaced by any of the fields listed above, and LMAX is replaced by the desired LMAX. For example, if I want to obtain the Cl_g_g up to LMAX of 6144 I need to run:\n",
    "\n",
    "$\\textbf{python spectra.py -t1 g -t2 g -lmax 6144}$\n",
    "\n",
    "or, if I wanted  Cl_vr_taud up to LMAX of 6144 I need to run:\n",
    "\n",
    "$\\textbf{python spectra.py -t1 vr-t2 taud -lmax 6144}$\n",
    "\n",
    "$\\textbf{NOTE}$: pCMB can only be paired with itself (i.e. A = B = pCMB)\n",
    "\n",
    "We include a shell script, $\\textbf{get_spectra.sh}$, to generate all the necessary Cls for second layer computation. Just run \n",
    "\n",
    "$\\textbf{bash get_spectra.sh}$\n",
    "\n",
    "and make sure to modify LMAX accordignly in $\\textbf{get_spectra.sh}$ before running."
   ]
  },
  {
   "cell_type": "markdown",
   "id": "sorted-diameter",
   "metadata": {},
   "source": [
    "### Post computation layer"
   ]
  },
  {
   "cell_type": "markdown",
   "id": "seasonal-notice",
   "metadata": {},
   "source": [
    "Once the base layer fields are computed, spectra.py allows us to construct several new Cls:\n",
    "\n",
    "1) $\\textbf{kSZ signal}$: The kSZ signal can be constructed from previously computed base layer fields (vr and taud). If I have stored data for Cl_vr_vr, Cl_vr_taud and Cl_taud_taud computed with a number N of bins, then the kSZ signal is computed running:\n",
    "\n",
    "$\\textbf{python spectra.py -postcomp -kSZ N -lmax LMAX}$ \n",
    "\n",
    "Example: Let's say I want to calculate the kSZ signal sourced on our past lightcone between redshifts of z_min = 1 and z_max = 2 (set these in config.py) and up to $\\ell$ of 6000. First I need to compute Cl_vr_vr, Cl_vr_taud and Cl_taud_taud on the past lightcone, which is subdivided into N_bins (set these in config.py) redshift bins. The higher the choice of N_bins, the more accurate the kSZ will be, but it will take longer. Once z_min, z_max, and N_bins (lets say 64) are set run :\n",
    "\n",
    "$\\textbf{python spectra.py -t1 vr -t2 vr -lmax 6000}$\n",
    "\n",
    "$\\textbf{python spectra.py -t1 taud -t2 taud -lmax 6000}$\n",
    "\n",
    "$\\textbf{python spectra.py -t1 taud -t2 vr -lmax 6000}$\n",
    "\n",
    "and then run \n",
    "\n",
    "$\\textbf{python spectra.py -postcomp -kSZ 64 -lmax 6000}$ \n",
    "\n",
    "and that will save the kSZ signal. \n",
    "\n",
    "\n",
    "2) $\\textbf{Moving lens signal}$: The kSZ signal can be constructed from previously computed base layer fields (ml and vt). If I have stored data for Cl_vt_vt, Cl_vt_ml and Cl_ml_ml computed with a number N of bins, then the moving lens signal is computed running:\n",
    "\n",
    "$\\textbf{python spectra.py -postcomp -kSZ N -lmax LMAX}$ \n",
    "\n",
    "\n",
    "3)$\\textbf{Coarse graining of fields}$: data computed with N_bins = Nfine can be transformed into data with the current N_bins configuration using:\n",
    "\n",
    "$\\textbf{python spectra.py -postcomp -coarse Nfine -lmax LMAX}$ \n",
    "\n",
    "assuming Nfine and N_bins actual are both powers of 2 and Nfine > N_bins. \n",
    "\n",
    "\n",
    "4) $\\textbf{Multi-frequency temperature cleaning}$: The CMB contains multiple frequency dependent foregrounds that \n",
    "we might want to clean. Using \n",
    "\n",
    "$\\textbf{python spectra.py -postcomp -cleanTX A -lmax LMAX}$ \n",
    "\n",
    "will return the ILC cleaned CMB temperature (accounting for tSZ,CIB and instrument noise) and additionally , the Cl_TA cleaned spectrum. \n",
    "\n",
    "Example: I want to get the frequency cleande Cl_T_T and Cl_T_g spower spectra up to LMAX of 8000. I have to run:\n",
    "\n",
    "$\\textbf{python spectra.py -postcomp -cleanTX g -lmax 8000}$ \n"
   ]
  },
  {
   "cell_type": "code",
   "execution_count": null,
   "id": "later-balance",
   "metadata": {},
   "outputs": [],
   "source": []
  }
 ],
 "metadata": {
  "kernelspec": {
   "display_name": "Python 3",
   "language": "python",
   "name": "python3"
  },
  "language_info": {
   "codemirror_mode": {
    "name": "ipython",
    "version": 3
   },
   "file_extension": ".py",
   "mimetype": "text/x-python",
   "name": "python",
   "nbconvert_exporter": "python",
   "pygments_lexer": "ipython3",
   "version": "3.8.5"
  }
 },
 "nbformat": 4,
 "nbformat_minor": 5
}
